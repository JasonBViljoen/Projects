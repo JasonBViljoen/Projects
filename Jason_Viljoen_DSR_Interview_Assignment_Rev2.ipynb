{
 "cells": [
  {
   "cell_type": "code",
   "execution_count": 1,
   "metadata": {},
   "outputs": [],
   "source": [
    "#PALINDROME DATA \n",
    "#DATA SCIENCE RESIDENCY INTERVIEW ASSIGNMENT\n",
    "#by Jason Viljoen\n",
    "\n",
    "#=============================================================================\n",
    "#import libraries\n",
    "import pandas as pd"
   ]
  },
  {
   "cell_type": "code",
   "execution_count": 2,
   "metadata": {},
   "outputs": [],
   "source": [
    "#=============================================================================\n",
    "#import data\n",
    "df = pd.read_excel(\"pone.0212445.s004.xlsx\")#import the dataset\n",
    "df.columns = df.iloc[0]#rename columns to correct headings\n",
    "df = df.iloc[1:]#remove the first row, as this is duplicate column headings"
   ]
  },
  {
   "cell_type": "code",
   "execution_count": 3,
   "metadata": {},
   "outputs": [
    {
     "name": "stdout",
     "output_type": "stream",
     "text": [
      "\n",
      "Total number of people living with HIV according to the Survey Estimate: 6409903\n"
     ]
    }
   ],
   "source": [
    "#=============================================================================\n",
    "#Task 2a)\n",
    "Survey_Estimate = df[df['Estimate'] == 'Survey'] #only keep those rows with survey estimates\n",
    "NoPLHIV_Survey_Total = Survey_Estimate['NoPLHIV'].sum() #calculate number of people living with HIV according to the Survey estimate\n",
    "print('\\nTotal number of people living with HIV according to the Survey Estimate:',NoPLHIV_Survey_Total)"
   ]
  },
  {
   "cell_type": "code",
   "execution_count": 4,
   "metadata": {},
   "outputs": [
    {
     "name": "stdout",
     "output_type": "stream",
     "text": [
      "\n",
      "Average NoPLHIV of the two estimates for Xhariep: 12247.5\n"
     ]
    }
   ],
   "source": [
    "#=============================================================================\n",
    "#Task 2b)\n",
    "Xhariep_df = df[df['District'] == 'Xhariep'] #Keep only Xhariep's data\n",
    "Xhariep_mean = Xhariep_df['NoPLHIV'].mean() #Calculate the average of the two estimates for Xhariep\n",
    "print('\\nAverage NoPLHIV of the two estimates for Xhariep:',Xhariep_mean)"
   ]
  },
  {
   "cell_type": "code",
   "execution_count": 5,
   "metadata": {},
   "outputs": [
    {
     "name": "stdout",
     "output_type": "stream",
     "text": [
      "Number of people not living with HIV for each row:\n",
      "\n",
      "1           650776\n",
      "2           651517\n",
      "3      3.65985e+06\n",
      "4      3.62818e+06\n",
      "5           407291\n",
      "          ...     \n",
      "100     1.0083e+06\n",
      "101    1.07675e+06\n",
      "102    1.06789e+06\n",
      "103    2.72787e+06\n",
      "104    2.74873e+06\n",
      "Name: NoPNLHIV, Length: 104, dtype: object\n"
     ]
    }
   ],
   "source": [
    "#=============================================================================\n",
    "#Task 2c)\n",
    "df['NoPNLHIV'] = (df['NoPLHIV']/(df['Prevalence_%']/100))-df['NoPLHIV'] #add column with number of people not living with HIV\n",
    "print('Number of people not living with HIV for each row:\\n')\n",
    "print(df['NoPNLHIV'])"
   ]
  },
  {
   "cell_type": "code",
   "execution_count": 6,
   "metadata": {},
   "outputs": [
    {
     "name": "stdout",
     "output_type": "stream",
     "text": [
      "\n",
      "Total NoPLHIV in all the cities (Survey Estimate): 1277484\n",
      "\n",
      "Total NoPLHIV in all the cities (Fay-Heriott Estimate): 1295249\n"
     ]
    }
   ],
   "source": [
    "#=============================================================================\n",
    "#Task 2d)\n",
    "City_Districts = df[df['District'].str.contains(\"City\")] #keep only districts with 'city' in the title\n",
    "Metro_Districts = df[df['District'].str.contains(\"Metro\")] #keep only districts with 'metro' in the title\n",
    "City_and_Metro_Districts = pd.concat([City_Districts, Metro_Districts], axis=0) #combine the two dataframes into one\n",
    "\n",
    "Survey_Estimate_City_Metro = City_and_Metro_Districts[City_and_Metro_Districts['Estimate'] == 'Survey'] #only keep those rows with survey estimates\n",
    "NoPLHIV_Survey_Total_City_Metro = Survey_Estimate_City_Metro['NoPLHIV'].sum() #calculate number of people living with HIV in cities/metros according to the Survey estimate\n",
    "print('\\nTotal NoPLHIV in all the cities (Survey Estimate):',NoPLHIV_Survey_Total_City_Metro)\n",
    "\n",
    "Fay_Heriott_Estimate_City_Metro = City_and_Metro_Districts[City_and_Metro_Districts['Estimate'] == 'Fay-Heriott'] #only keep those rows with Fay-Heriott estimates\n",
    "NoPLHIV_Fay_Heriott_Total_City_Metro = Fay_Heriott_Estimate_City_Metro['NoPLHIV'].sum() #calculate number of people living with HIV in cities/metros according to the Fay-Heriott estimate\n",
    "print('\\nTotal NoPLHIV in all the cities (Fay-Heriott Estimate):',NoPLHIV_Fay_Heriott_Total_City_Metro)"
   ]
  },
  {
   "cell_type": "code",
   "execution_count": 7,
   "metadata": {},
   "outputs": [],
   "source": [
    "#=============================================================================\n",
    "#Task 3)\n",
    "df.to_csv('New_Data.csv',index=False) #export original data with extra column to .csv file\n",
    "\n",
    "#END\n",
    "#Time taken to complete assignment: ±2.5 hours\n"
   ]
  }
 ],
 "metadata": {
  "kernelspec": {
   "display_name": "Python 3",
   "language": "python",
   "name": "python3"
  },
  "language_info": {
   "codemirror_mode": {
    "name": "ipython",
    "version": 3
   },
   "file_extension": ".py",
   "mimetype": "text/x-python",
   "name": "python",
   "nbconvert_exporter": "python",
   "pygments_lexer": "ipython3",
   "version": "3.8.5"
  }
 },
 "nbformat": 4,
 "nbformat_minor": 4
}
